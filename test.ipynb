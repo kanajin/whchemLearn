{
 "cells": [
  {
   "cell_type": "code",
   "execution_count": 128,
   "metadata": {},
   "outputs": [],
   "source": [
    "import requests\n",
    "import json\n",
    "import random\n",
    "import urllib.parse"
   ]
  },
  {
   "cell_type": "code",
   "execution_count": 129,
   "metadata": {},
   "outputs": [],
   "source": [
    "s = requests.Session()"
   ]
  },
  {
   "cell_type": "code",
   "execution_count": 130,
   "metadata": {},
   "outputs": [],
   "source": [
    "baseAddress = \"https://learning.whchem.com:6443/\"\n",
    "defaultHeader = {\"User-Agent\": \"Mozilla /5.0 (iPhone; CPU iPhone OS 13_2_3 like Mac OS X) AppleWebKit/605.1.15 (KHTML, like Gecko) Version/13.0.3 Mobile/15E148 Safari/604.1\"}\n",
    "user = {\"username\": \"00024907\", \"password\": \"maolei12\"}\n",
    "s.headers.update(defaultHeader)\n"
   ]
  },
  {
   "cell_type": "code",
   "execution_count": 131,
   "metadata": {},
   "outputs": [],
   "source": [
    "#登录，并保存登录信息\n",
    "s.headers.update({\"authorization\":s.post(baseAddress+\"Api/User/Login\",data=user).json()[\"data\"]['TokenID']})\n",
    "\n",
    "#获取未完成的任务列表\n",
    "mission_nopass = list(filter(lambda e: e[\"LimitIntegral\"] != e[\"Integral\"] and e[\"TaskType\"] != 12, s.get(baseAddress+\"Api/Common/Task/GetTaskList\", data={\"taskGroup\": \"0\"}).json()[\"data\"][\"list\"]))\n",
    "\n",
    "#获取闯关答题未完成列表\n",
    "breakThrough_nopass = [x[\"PointLevelId\"] for x in filter(lambda e: e[\"CanJoin\"] == True, s.post(baseAddress+\"Api/PointAnswer/GetPointAnswerDetail\", data={\"pageSize\": \"2000\", \"pageIndex\": \"0\"}).json()[\"data\"][\"list\"])]\n",
    "\n",
    "#获取闯关答题题目\n",
    "breakThrough_subject = s.post(baseAddress+\"Api/PointAnswer/GetPointAnswerQuestion\", data={\"level\": breakThrough_nopass[0], \"isExercise\": \"false\"}).json()\n"
   ]
  },
  {
   "cell_type": "code",
   "execution_count": 132,
   "metadata": {},
   "outputs": [
    {
     "name": "stdout",
     "output_type": "stream",
     "text": [
      "[{'TmSourceType': 0, 'Tk_ID': 197, 'Tm_ID': 25125, 'Tm_Tx': 593, 'Tm_BaseTx': '单选类', 'Parent_ID': None, 'Relate_Tm': None, 'Title': '运输单位车辆及驾驶员具备国家规定的（）（包括驾驶证、行驶证、危货运输驾驶员从业资格证、危险货物道路运输证）及押运员资质（包括押运员从业资格证）。', 'Tm_Key': '固废管理制度', 'Options': '成绩;业绩;资质', 'Answers': 'Z', 'Difficulty': '易', 'Remark': '', 'Files': '', 'FileUrl': '', 'FileAnswerTemplate': None, 'AllowStudentUploadAnswer': 0, 'UserAnswer': '', 'Mark': None, 'UserAnswerFile': None, 'AnswerTime': '', 'AllowReport': 0, 'AnswerRight': 0, 'UserScore': 0.0, 'Tm_Tx_Str': '单选题', 'Score': 1.0, 'AttachFileInfo': None, 'QaResult': None}, {'TmSourceType': 0, 'Tk_ID': 197, 'Tm_ID': 25146, 'Tm_Tx': 593, 'Tm_BaseTx': '单选类', 'Parent_ID': None, 'Relate_Tm': None, 'Title': '发生三级责任事故，区域运行经理或主管（如无运行经理或主管，则为区域或项目负责人）个人绩效不高于3分，（）内不得晋升。', 'Tm_Key': 'HSE奖惩', 'Options': '一年;两年;三年;五年', 'Answers': 'Z', 'Difficulty': '易', 'Remark': '', 'Files': '', 'FileUrl': '', 'FileAnswerTemplate': None, 'AllowStudentUploadAnswer': 0, 'UserAnswer': '', 'Mark': None, 'UserAnswerFile': None, 'AnswerTime': '', 'AllowReport': 0, 'AnswerRight': 0, 'UserScore': 0.0, 'Tm_Tx_Str': '单选题', 'Score': 1.0, 'AttachFileInfo': None, 'QaResult': None}, {'TmSourceType': 0, 'Tk_ID': 197, 'Tm_ID': 25167, 'Tm_Tx': 592, 'Tm_BaseTx': '判断类', 'Parent_ID': None, 'Relate_Tm': None, 'Title': '事故发生部门负责本部门事故的分类、分级、潜在后果评估和报告工作。', 'Tm_Key': '事故分类报告', 'Options': '对;错', 'Answers': 'Z', 'Difficulty': '易', 'Remark': '', 'Files': '', 'FileUrl': '', 'FileAnswerTemplate': None, 'AllowStudentUploadAnswer': 0, 'UserAnswer': '', 'Mark': None, 'UserAnswerFile': None, 'AnswerTime': '', 'AllowReport': 0, 'AnswerRight': 0, 'UserScore': 0.0, 'Tm_Tx_Str': '判断题', 'Score': 1.0, 'AttachFileInfo': None, 'QaResult': None}, {'TmSourceType': 0, 'Tk_ID': 197, 'Tm_ID': 25229, 'Tm_Tx': 592, 'Tm_BaseTx': '判断类', 'Parent_ID': None, 'Relate_Tm': None, 'Title': '当使用便携式测爆仪器进行动火气体分析时，被测结果不能大于爆炸下限（LEL）的2%', 'Tm_Key': '特殊作业安全标准', 'Options': '对;错', 'Answers': 'Z', 'Difficulty': '易', 'Remark': '', 'Files': '', 'FileUrl': '', 'FileAnswerTemplate': None, 'AllowStudentUploadAnswer': 0, 'UserAnswer': '', 'Mark': None, 'UserAnswerFile': None, 'AnswerTime': '', 'AllowReport': 0, 'AnswerRight': 0, 'UserScore': 0.0, 'Tm_Tx_Str': '判断题', 'Score': 1.0, 'AttachFileInfo': None, 'QaResult': None}, {'TmSourceType': 0, 'Tk_ID': 195, 'Tm_ID': 25607, 'Tm_Tx': 594, 'Tm_BaseTx': '多选类', 'Parent_ID': None, 'Relate_Tm': None, 'Title': '新版万华化学责任关怀管理体系四级文件结构是:（）。', 'Tm_Key': '责任关怀管理体系知识', 'Options': '政策;程序;标准;规范/指南', 'Answers': 'Z', 'Difficulty': '易', 'Remark': '', 'Files': '', 'FileUrl': '', 'FileAnswerTemplate': None, 'AllowStudentUploadAnswer': 0, 'UserAnswer': '', 'Mark': None, 'UserAnswerFile': None, 'AnswerTime': '', 'AllowReport': 0, 'AnswerRight': 0, 'UserScore': 0.0, 'Tm_Tx_Str': '多选题', 'Score': 1.0, 'AttachFileInfo': None, 'QaResult': None}]\n"
     ]
    }
   ],
   "source": [
    "tmlist = breakThrough_subject[\"data\"][\"list\"]\n",
    "print(tmlist)\n",
    "tmdata = [({\n",
    "    \"tmid\": x.pop(\"Tm_ID\"), \n",
    "    \"txstr\": x.pop(\"Tm_BaseTx\"), \n",
    "    \"title\": x.pop(\"Title\"),\n",
    "    \"options\": x.pop(\"Options\"),\n",
    "}\n",
    ") for x in tmlist]\n",
    "#tmid_list"
   ]
  },
  {
   "cell_type": "code",
   "execution_count": 140,
   "metadata": {},
   "outputs": [
    {
     "name": "stdout",
     "output_type": "stream",
     "text": [
      "[{'tmid': 25125, 'answer': 'C'}, {'tmid': 25146, 'answer': 'A'}, {'tmid': 25167, 'answer': 'A'}, {'tmid': 25229, 'answer': 'A'}, {'tmid': 25607, 'answer': 'A,B,C,D'}]\n"
     ]
    }
   ],
   "source": [
    "#获取答案\n",
    "answerlist = []\n",
    "with open (\"subjectlist.json\", \"r\", encoding=\"utf-8\") as f:\n",
    "    tm = json.load(f)\n",
    "    for gettm in tmdata:\n",
    "        answer = {}\n",
    "        answer[\"tmid\"] = gettm[\"tmid\"]\n",
    "        \n",
    "        #如果没有该题\n",
    "        if(not gettm['title'] in tm):\n",
    "            if(gettm['txstr'] == '单选类' or gettm['txstr'] == '判断类'):\n",
    "                answer[\"answer\"] = chr(random.randint(65,68))\n",
    "            elif(gettm['txstr'] == '多选类'):\n",
    "                answer[\"answer\"] = \"A,B,C,D,E,F,G\"[0: random.randrange(0, 13, 2)]\n",
    "\n",
    "        else:\n",
    "            answer[\"answer\"] = tm[gettm[\"title\"]][\"answers\"].replace(\";\", \",\")\n",
    "        answerlist.append(answer)\n",
    "print(str(answerlist))\n",
    "#\n",
    "#获取闯关答题未完成列表\n",
    "#breakThrough_nopass_id = [x[\"PointLevelId\"] for x in filter(lambda e: e[\"MaxPointNumber\"] != e[\"QuestionNumber\"], s.post(baseAddress+\"Api/PointAnswer/GetPointAnswerDetail\", data={\"pageSize\": \"2000\", \"pageIndex\": \"0\"}).json()[\"data\"]['list'])]\n"
   ]
  },
  {
   "cell_type": "code",
   "execution_count": 141,
   "metadata": {},
   "outputs": [
    {
     "name": "stdout",
     "output_type": "stream",
     "text": [
      "{'state': 'success', 'msg': None, 'data': {'resultId': '22ce0771-b0bc-4b4a-bc5d-ae21f628630a'}}\n"
     ]
    }
   ],
   "source": [
    "submit = s.post(baseAddress+\"Api/PointAnswer/SubmitPointAnswer\", data={\"level\": breakThrough_nopass[0], \"answer\": str(answerlist), \"second\": \"20\"})\n",
    "print(submit.json())"
   ]
  },
  {
   "cell_type": "code",
   "execution_count": 142,
   "metadata": {},
   "outputs": [
    {
     "data": {
      "text/plain": [
       "'success'"
      ]
     },
     "execution_count": 142,
     "metadata": {},
     "output_type": "execute_result"
    }
   ],
   "source": [
    "submit.json()['state']=='success'"
   ]
  },
  {
   "cell_type": "markdown",
   "metadata": {},
   "source": [
    "\"state\": \"success\""
   ]
  },
  {
   "cell_type": "code",
   "execution_count": null,
   "metadata": {},
   "outputs": [
    {
     "ename": "TypeError",
     "evalue": "'NoneType' object is not subscriptable",
     "output_type": "error",
     "traceback": [
      "\u001b[1;31m---------------------------------------------------------------------------\u001b[0m",
      "\u001b[1;31mTypeError\u001b[0m                                 Traceback (most recent call last)",
      "Input \u001b[1;32mIn [115]\u001b[0m, in \u001b[0;36m<module>\u001b[1;34m\u001b[0m\n\u001b[0;32m      1\u001b[0m \u001b[38;5;66;03m#获取闯关答题未完成列表\u001b[39;00m\n\u001b[1;32m----> 2\u001b[0m breakThrough_nopass \u001b[38;5;241m=\u001b[39m [x[\u001b[38;5;124m\"\u001b[39m\u001b[38;5;124mPointLevelId\u001b[39m\u001b[38;5;124m\"\u001b[39m] \u001b[38;5;28;01mfor\u001b[39;00m x \u001b[38;5;129;01min\u001b[39;00m \u001b[38;5;28mfilter\u001b[39m(\u001b[38;5;28;01mlambda\u001b[39;00m e: e[\u001b[38;5;124m\"\u001b[39m\u001b[38;5;124mCanJoin\u001b[39m\u001b[38;5;124m\"\u001b[39m] \u001b[38;5;241m==\u001b[39m \u001b[38;5;28;01mTrue\u001b[39;00m, \u001b[43ms\u001b[49m\u001b[38;5;241;43m.\u001b[39;49m\u001b[43mpost\u001b[49m\u001b[43m(\u001b[49m\u001b[43mbaseAddress\u001b[49m\u001b[38;5;241;43m+\u001b[39;49m\u001b[38;5;124;43m\"\u001b[39;49m\u001b[38;5;124;43mApi/PointAnswer/GetPointAnswerDetail\u001b[39;49m\u001b[38;5;124;43m\"\u001b[39;49m\u001b[43m,\u001b[49m\u001b[43m \u001b[49m\u001b[43mdata\u001b[49m\u001b[38;5;241;43m=\u001b[39;49m\u001b[43m{\u001b[49m\u001b[38;5;124;43m\"\u001b[39;49m\u001b[38;5;124;43mpageSize\u001b[39;49m\u001b[38;5;124;43m\"\u001b[39;49m\u001b[43m:\u001b[49m\u001b[43m \u001b[49m\u001b[38;5;124;43m\"\u001b[39;49m\u001b[38;5;124;43m2000\u001b[39;49m\u001b[38;5;124;43m\"\u001b[39;49m\u001b[43m,\u001b[49m\u001b[43m \u001b[49m\u001b[38;5;124;43m\"\u001b[39;49m\u001b[38;5;124;43mpageIndex\u001b[39;49m\u001b[38;5;124;43m\"\u001b[39;49m\u001b[43m:\u001b[49m\u001b[43m \u001b[49m\u001b[38;5;124;43m\"\u001b[39;49m\u001b[38;5;124;43m0\u001b[39;49m\u001b[38;5;124;43m\"\u001b[39;49m\u001b[43m}\u001b[49m\u001b[43m)\u001b[49m\u001b[38;5;241;43m.\u001b[39;49m\u001b[43mjson\u001b[49m\u001b[43m(\u001b[49m\u001b[43m)\u001b[49m\u001b[43m[\u001b[49m\u001b[38;5;124;43m\"\u001b[39;49m\u001b[38;5;124;43mdata\u001b[39;49m\u001b[38;5;124;43m\"\u001b[39;49m\u001b[43m]\u001b[49m\u001b[43m[\u001b[49m\u001b[38;5;124;43m\"\u001b[39;49m\u001b[38;5;124;43mlist\u001b[39;49m\u001b[38;5;124;43m\"\u001b[39;49m\u001b[43m]\u001b[49m)]\n\u001b[0;32m      3\u001b[0m breakThrough_nopass\n",
      "\u001b[1;31mTypeError\u001b[0m: 'NoneType' object is not subscriptable"
     ]
    }
   ],
   "source": [
    "#获取闯关答题未完成列表\n",
    "#breakThrough_nopass = [x[\"PointLevelId\"] for x in filter(lambda e: e[\"CanJoin\"] == True, s.post(baseAddress+\"Api/PointAnswer/GetPointAnswerDetail\", data={\"pageSize\": \"2000\", \"pageIndex\": \"0\"}).json()[\"data\"][\"list\"])]\n",
    "#breakThrough_nopass"
   ]
  },
  {
   "cell_type": "code",
   "execution_count": null,
   "metadata": {},
   "outputs": [
    {
     "name": "stdout",
     "output_type": "stream",
     "text": [
      "A\n"
     ]
    }
   ],
   "source": [
    "print(chr(65))"
   ]
  }
 ],
 "metadata": {
  "interpreter": {
   "hash": "7185b426b6804dc57bea7c24cdb43bef2084ba8dbb7ecbe8d61628ab011a084a"
  },
  "kernelspec": {
   "display_name": "Python 3.9.5 64-bit",
   "language": "python",
   "name": "python3"
  },
  "language_info": {
   "codemirror_mode": {
    "name": "ipython",
    "version": 3
   },
   "file_extension": ".py",
   "mimetype": "text/x-python",
   "name": "python",
   "nbconvert_exporter": "python",
   "pygments_lexer": "ipython3",
   "version": "3.10.1"
  },
  "orig_nbformat": 4
 },
 "nbformat": 4,
 "nbformat_minor": 2
}
