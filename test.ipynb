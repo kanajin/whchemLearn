{
 "cells": [
  {
   "cell_type": "code",
   "execution_count": 37,
   "metadata": {},
   "outputs": [],
   "source": [
    "import requests\n",
    "import json\n",
    "import urllib.parse"
   ]
  },
  {
   "cell_type": "code",
   "execution_count": 25,
   "metadata": {},
   "outputs": [],
   "source": [
    "s = requests.Session()"
   ]
  },
  {
   "cell_type": "code",
   "execution_count": 26,
   "metadata": {},
   "outputs": [],
   "source": [
    "baseAddress = \"https://learning.whchem.com:6443/\"\n",
    "defaultHeader = {\"User-Agent\": \"Mozilla /5.0 (iPhone; CPU iPhone OS 13_2_3 like Mac OS X) AppleWebKit/605.1.15 (KHTML, like Gecko) Version/13.0.3 Mobile/15E148 Safari/604.1\"}\n",
    "user = {\"username\": \"00024849\", \"password\": \"ytpu2021\"}\n",
    "s.headers.update(defaultHeader)\n"
   ]
  },
  {
   "cell_type": "code",
   "execution_count": 91,
   "metadata": {},
   "outputs": [],
   "source": [
    "#登录，并保存登录信息\n",
    "s.headers.update({\"authorization\":s.post(baseAddress+\"Api/User/Login\",data=user).json()[\"data\"]['TokenID']})\n",
    "\n",
    "#获取未完成的任务列表\n",
    "mission_nopass = list(filter(lambda e: e[\"LimitIntegral\"] != e[\"Integral\"] and e[\"TaskType\"] != 12, s.get(baseAddress+\"Api/Common/Task/GetTaskList\", data={\"taskGroup\": \"0\"}).json()[\"data\"][\"list\"]))\n",
    "\n",
    "#获取闯关答题未完成列表\n",
    "breakThrough_nopass_id = [x[\"PointLevelId\"] for x in filter(lambda e: e[\"MaxPointNumber\"] != e[\"QuestionNumber\"], s.post(baseAddress+\"Api/PointAnswer/GetPointAnswerDetail\", data={\"pageSize\": \"2000\", \"pageIndex\": \"0\"}).json()[\"data\"]['list'])]\n",
    "\n",
    "#获取闯关答题题目\n",
    "breakThrough_subject = s.post(baseAddress+\"Api/PointAnswer/GetPointAnswerQuestion\", data={\"level\": breakThrough_nopass_id[0], \"isExercise\": \"false\"}).json()\n"
   ]
  },
  {
   "cell_type": "code",
   "execution_count": 92,
   "metadata": {},
   "outputs": [
    {
     "name": "stdout",
     "output_type": "stream",
     "text": [
      "[{'TmSourceType': 0, 'Tk_ID': 657, 'Tm_ID': 49045, 'Tm_Tx': 593, 'Tm_BaseTx': '单选类', 'Parent_ID': None, 'Relate_Tm': None, 'Title': '液环泵可达到的极限真空范围为（）。', 'Tm_Key': '液环泵基础知识', 'Options': '2KPa～4KPa;2MPa～4MPa;200Pa～400Pa;20Pa～40Pa', 'Answers': 'Z', 'Difficulty': '易', 'Remark': '', 'Files': '', 'FileUrl': '', 'FileAnswerTemplate': None, 'AllowStudentUploadAnswer': 0, 'UserAnswer': '', 'Mark': None, 'UserAnswerFile': None, 'AnswerTime': '', 'AllowReport': 0, 'AnswerRight': 0, 'UserScore': 0.0, 'Tm_Tx_Str': '单选题', 'Score': 1.0, 'AttachFileInfo': None, 'QaResult': None}, {'TmSourceType': 0, 'Tk_ID': 657, 'Tm_ID': 48949, 'Tm_Tx': 592, 'Tm_BaseTx': '判断类', 'Parent_ID': None, 'Relate_Tm': None, 'Title': '长时间关闭磁力泵出口阀，泵可以正常运行。', 'Tm_Key': '磁力泵', 'Options': '对;错', 'Answers': 'Z', 'Difficulty': '易', 'Remark': '', 'Files': '', 'FileUrl': '', 'FileAnswerTemplate': None, 'AllowStudentUploadAnswer': 0, 'UserAnswer': '', 'Mark': None, 'UserAnswerFile': None, 'AnswerTime': '', 'AllowReport': 0, 'AnswerRight': 0, 'UserScore': 0.0, 'Tm_Tx_Str': '判断题', 'Score': 1.0, 'AttachFileInfo': None, 'QaResult': None}, {'TmSourceType': 0, 'Tk_ID': 657, 'Tm_ID': 48937, 'Tm_Tx': 593, 'Tm_BaseTx': '单选类', 'Parent_ID': None, 'Relate_Tm': None, 'Title': '“屏蔽泵P3泵体循环水夹套出现砂眼，水泄漏并伴随由光气味道”的案例中，屏蔽泵的型式为（   ）。', 'Tm_Key': '屏蔽泵操作及故障案例', 'Options': '泥浆分离型;基本型;高温型;自吸型', 'Answers': 'Z', 'Difficulty': '易', 'Remark': '', 'Files': '', 'FileUrl': '', 'FileAnswerTemplate': None, 'AllowStudentUploadAnswer': 0, 'UserAnswer': '', 'Mark': None, 'UserAnswerFile': None, 'AnswerTime': '', 'AllowReport': 0, 'AnswerRight': 0, 'UserScore': 0.0, 'Tm_Tx_Str': '单选题', 'Score': 1.0, 'AttachFileInfo': None, 'QaResult': None}]\n"
     ]
    }
   ],
   "source": [
    "tmlist = breakThrough_subject[\"data\"][\"list\"]\n",
    "print(tmlist)\n",
    "tmdata = [({\n",
    "    \"tmid\": x.pop(\"Tm_ID\"), \n",
    "    \"txstr\": x.pop(\"Tm_BaseTx\"), \n",
    "    \"title\": x.pop(\"Title\"),\n",
    "    \"options\": x.pop(\"Options\"),\n",
    "}\n",
    ") for x in tmlist]\n",
    "#tmid_list"
   ]
  },
  {
   "cell_type": "markdown",
   "metadata": {},
   "source": [
    "level=6d1d71e2-001f-4985-9ed0-3a1018adc3d7&answer=%5B%7B%22tmid%22%3A48950%2C%22answer%22%3A%22B%22%7D%2C%7B%22tmid%22%3A49158%2C%22answer%22%3A%22C%22%7D%2C%7B%22tmid%22%3A49175%2C%22answer%22%3A%22A%22%7D%5D&second=21"
   ]
  },
  {
   "cell_type": "code",
   "execution_count": 93,
   "metadata": {},
   "outputs": [
    {
     "data": {
      "text/plain": [
       "'level=6d1d71e2-001f-4985-9ed0-3a1018adc3d7&answer=[{\"tmid\":48950,\"answer\":\"B\"},{\"tmid\":49158,\"answer\":\"C\"},{\"tmid\":49175,\"answer\":\"A\"}]&second=21'"
      ]
     },
     "execution_count": 93,
     "metadata": {},
     "output_type": "execute_result"
    }
   ],
   "source": [
    "answersubmit = \"level=6d1d71e2-001f-4985-9ed0-3a1018adc3d7&answer=%5B%7B%22tmid%22%3A48950%2C%22answer%22%3A%22B%22%7D%2C%7B%22tmid%22%3A49158%2C%22answer%22%3A%22C%22%7D%2C%7B%22tmid%22%3A49175%2C%22answer%22%3A%22A%22%7D%5D&second=21\"\n",
    "urllib.parse.unquote(answersubmit)\n"
   ]
  },
  {
   "cell_type": "code",
   "execution_count": 94,
   "metadata": {},
   "outputs": [
    {
     "name": "stdout",
     "output_type": "stream",
     "text": [
      "[{'tmid': 49045, 'answer': 'A'}, {'tmid': 48949, 'answer': 'B'}, {'tmid': 48937, 'answer': 'A'}]\n"
     ]
    }
   ],
   "source": [
    "#获取答案\n",
    "answerlist = []\n",
    "with open (\"tmdict.json\", \"r\", encoding=\"utf-8\") as f:\n",
    "    tm = json.load(f)\n",
    "    for gettm in tmdata:\n",
    "        answer = {}\n",
    "        answer[\"tmid\"] = gettm[\"tmid\"]\n",
    "        answer[\"answer\"] = tm[gettm[\"title\"]][\"answers\"].replace(\";\", \",\")\n",
    "        answerlist.append(answer)\n",
    "print(str(answerlist))\n",
    "submit = s.post(baseAddress+\"Api/PointAnswer/SubmitPointAnswer\", data={\"level\": breakThrough_nopass_id[0], \"answer\": str(answerlist), \"second\": \"20\"})\n",
    "#获取闯关答题未完成列表\n",
    "breakThrough_nopass_id = [x[\"PointLevelId\"] for x in filter(lambda e: e[\"MaxPointNumber\"] != e[\"QuestionNumber\"], s.post(baseAddress+\"Api/PointAnswer/GetPointAnswerDetail\", data={\"pageSize\": \"2000\", \"pageIndex\": \"0\"}).json()[\"data\"]['list'])]\n"
   ]
  },
  {
   "cell_type": "code",
   "execution_count": 103,
   "metadata": {},
   "outputs": [
    {
     "data": {
      "text/plain": [
       "['232fc123-c25d-49c0-afce-e4429827e270']"
      ]
     },
     "execution_count": 103,
     "metadata": {},
     "output_type": "execute_result"
    }
   ],
   "source": [
    "#获取闯关答题未完成列表\n",
    "breakThrough_nopass = [x[\"PointLevelId\"] for x in filter(lambda e: e[\"CanJoin\"] == True, s.post(baseAddress+\"Api/PointAnswer/GetPointAnswerDetail\", data={\"pageSize\": \"2000\", \"pageIndex\": \"0\"}).json()[\"data\"][\"list\"])]\n",
    "breakThrough_nopass"
   ]
  }
 ],
 "metadata": {
  "interpreter": {
   "hash": "7185b426b6804dc57bea7c24cdb43bef2084ba8dbb7ecbe8d61628ab011a084a"
  },
  "kernelspec": {
   "display_name": "Python 3.9.5 64-bit",
   "language": "python",
   "name": "python3"
  },
  "language_info": {
   "codemirror_mode": {
    "name": "ipython",
    "version": 3
   },
   "file_extension": ".py",
   "mimetype": "text/x-python",
   "name": "python",
   "nbconvert_exporter": "python",
   "pygments_lexer": "ipython3",
   "version": "3.10.1"
  },
  "orig_nbformat": 4
 },
 "nbformat": 4,
 "nbformat_minor": 2
}
